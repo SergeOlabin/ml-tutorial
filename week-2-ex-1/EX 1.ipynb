{
 "cells": [
  {
   "cell_type": "code",
   "execution_count": 217,
   "metadata": {
    "collapsed": true
   },
   "outputs": [],
   "source": [
    "import pandas as pd\n",
    "import numpy as np\n",
    "import matplotlib.pyplot as plt\n",
    "\n",
    "def arr_to_value(arr):\n",
    "    return [float(elem) for elem in arr];"
   ]
  },
  {
   "cell_type": "code",
   "execution_count": 218,
   "metadata": {
    "collapsed": true,
    "scrolled": true
   },
   "outputs": [],
   "source": [
    "init_data = open('ex1data1.txt', 'r');\n",
    "read_data = init_data.read();\n",
    "arr = read_data.split('\\n');\n",
    "arr.pop();\n",
    "\n",
    "X = [];\n",
    "Y = [];\n",
    "\n",
    "for line in arr:\n",
    "    X.append([float(line.split(',')[0])]);\n",
    "    Y.append([float(line.split(',')[1])]);\n",
    "    \n",
    "m = len(X);\n",
    "n = 1;\n",
    "\n",
    "\n",
    "X_total = [[1] + x for x in X];\n",
    "X_total = np.array(X_total);\n",
    "X = np.array(X);\n",
    "Y = np.array(Y);"
   ]
  },
  {
   "cell_type": "markdown",
   "metadata": {},
   "source": [
    "# NORMALIZATION"
   ]
  },
  {
   "cell_type": "code",
   "execution_count": 219,
   "metadata": {},
   "outputs": [
    {
     "data": {
      "text/plain": [
       "[-3.89578087831186, 1.1930336441895941]"
      ]
     },
     "execution_count": 219,
     "metadata": {},
     "output_type": "execute_result"
    }
   ],
   "source": [
    "# theta normalized by normal equation\n",
    "\n",
    "def mormalize_theta(x, y):\n",
    "    theta_normalized_arrayed = np.dot(\n",
    "        np.dot(\n",
    "            np.linalg.inv(\n",
    "                np.dot(x.transpose(), x)), x.transpose()\n",
    "        ), y);\n",
    "    \n",
    "    return arr_to_value(theta_normalized_arrayed);\n",
    "\n",
    "theta_normalized = mormalize_theta(\n",
    "    x=X_total,\n",
    "    y=Y,\n",
    ");\n",
    "\n",
    "theta_normalized"
   ]
  },
  {
   "cell_type": "code",
   "execution_count": 220,
   "metadata": {
    "collapsed": true,
    "scrolled": true
   },
   "outputs": [],
   "source": [
    "# hypothesis calculation\n",
    "def hypothesis(args, theta):\n",
    "    length = len(theta);\n",
    "    out = np.zeros([len(args), 2]);\n",
    "    out2 = np.zeros([len(args), 1]);\n",
    "    \n",
    "    if length != len(args[0]):\n",
    "        return 'false';\n",
    "    \n",
    "    for i in range(len(args)):\n",
    "        for j in range(len(args[i])):\n",
    "            out[i][j] = args[i][j] * theta[j];\n",
    "    \n",
    "    for i in range(len(out)):\n",
    "        out2[i] = sum(out[i]);\n",
    "    \n",
    "    return out2;\n",
    "\n",
    "hypo = hypothesis(X_total, theta_normalized);"
   ]
  },
  {
   "cell_type": "code",
   "execution_count": 221,
   "metadata": {
    "scrolled": true
   },
   "outputs": [
    {
     "data": {
      "image/png": "[encoded data removed]",
      "text/plain": [
       "<matplotlib.figure.Figure at 0x198a8267e10>"
      ]
     },
     "metadata": {},
     "output_type": "display_data"
    }
   ],
   "source": [
    "plt.plot(X, Y, 'o', X, hypo, 'r');\n",
    "plt.show();"
   ]
  },
  {
   "cell_type": "code",
   "execution_count": 222,
   "metadata": {},
   "outputs": [
    {
     "data": {
      "text/plain": [
       "116.60061718483715"
      ]
     },
     "execution_count": 222,
     "metadata": {},
     "output_type": "execute_result"
    }
   ],
   "source": [
    "def hypo_predict(value):\n",
    "    return theta_normalized[0] + theta_normalized[1] * value;\n",
    "\n",
    "hypo_predict(101)"
   ]
  },
  {
   "cell_type": "markdown",
   "metadata": {},
   "source": [
    "# Gradient Descent"
   ]
  },
  {
   "cell_type": "code",
   "execution_count": 223,
   "metadata": {},
   "outputs": [
    {
     "data": {
      "text/plain": [
       "array([-3.57081935,  1.16038773])"
      ]
     },
     "execution_count": 223,
     "metadata": {},
     "output_type": "execute_result"
    }
   ],
   "source": [
    "theta = np.ones(n + 1);\n",
    "iterations = 1500;\n",
    "alpha = 0.01;\n",
    "\n",
    "def gradient_descent(x, y, theta, alpha, m, iterations):\n",
    "    x_transposed = x.transpose();\n",
    "    \n",
    "    for i in range(iterations):\n",
    "        gradient = np.ones(n + 1);\n",
    "        \n",
    "        hypothesis = np.dot(x, theta);\n",
    "        loss = hypothesis - arr_to_value(y);\n",
    "        \n",
    "        cost_function = np.sum(loss ** 2) / (2 * m);\n",
    "        # print(\"Iteration %d | Cost: %f\" % (i, cost_function));\n",
    "\n",
    "        # average gradient per example ???\n",
    "        gradient = np.dot(x_transposed, loss) / m;\n",
    "        \n",
    "        # another implementation\n",
    "#         gradient[0] = sum([(theta[0] + theta[1] * x[j][1] - y[j]) * x[j][0] for j in range(len(x))]) / m;\n",
    "#         gradient[1] = sum([(theta[0] + theta[1] * x[j][1] - y[j]) * x[j][1] for j in range(len(x))]) / m;\n",
    "        \n",
    "        theta = theta - alpha * gradient;\n",
    "\n",
    "    return theta;\n",
    "\n",
    "theta_gradient = gradient_descent(\n",
    "    x=X_total,\n",
    "    y=Y,\n",
    "    theta=theta,\n",
    "    alpha=alpha,\n",
    "    m=m,\n",
    "    iterations=iterations,\n",
    ");\n",
    "theta_gradient"
   ]
  },
  {
   "cell_type": "code",
   "execution_count": 224,
   "metadata": {},
   "outputs": [
    {
     "data": {
      "image/png": "[encoded data removed]",
      "text/plain": [
       "<matplotlib.figure.Figure at 0x198a6e445f8>"
      ]
     },
     "metadata": {},
     "output_type": "display_data"
    }
   ],
   "source": [
    "hypo_gradient = hypothesis(X_total, theta_gradient)\n",
    "plt.plot(X, Y, 'o', X, hypothesis(X_total, theta_gradient), 'r');\n",
    "plt.show();"
   ]
  }
 ],
 "metadata": {
  "kernelspec": {
   "display_name": "Python 3",
   "language": "python",
   "name": "python3"
  },
  "language_info": {
   "codemirror_mode": {
    "name": "ipython",
    "version": 3
   },
   "file_extension": ".py",
   "mimetype": "text/x-python",
   "name": "python",
   "nbconvert_exporter": "python",
   "pygments_lexer": "ipython3",
   "version": "3.6.2"
  }
 },
 "nbformat": 4,
 "nbformat_minor": 2
}
