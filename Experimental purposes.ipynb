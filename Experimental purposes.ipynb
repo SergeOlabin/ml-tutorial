{
 "cells": [
  {
   "cell_type": "code",
   "execution_count": 10,
   "metadata": {},
   "outputs": [
    {
     "data": {
      "text/plain": [
       "dict_items([('name', 'Mary'), ('age', 19), ('salary', 1200.0)])"
      ]
     },
     "execution_count": 10,
     "metadata": {},
     "output_type": "execute_result"
    }
   ],
   "source": [
    "def enquote1(in_str):\n",
    "    \"\"\"Quotes input string with single-quote\"\"\"\n",
    "    in_str = in_str.replace(\"'\", r\"\\'\")\n",
    "    return \"'%s'\" % in_str\n",
    "\n",
    "def enquote2(in_str):\n",
    "    \"\"\"Quotes input string with double-quote\"\"\"\n",
    "    in_str = in_str.replace('\"', r'\\\"')\n",
    "    return '\"%s\"' % in_str\n",
    "\n",
    "def gen_insert(table, **kwargs):\n",
    "    \"\"\"Generates DB insert statement\"\"\"\n",
    "    cols = []\n",
    "    vals = []\n",
    "    for col, val in kwargs.items():\n",
    "        cols.append(enquote2(col))\n",
    "        vals.append(enquote1(str(val)))\n",
    "    cols = \", \".join(cols)\n",
    "    vals = \", \".join(vals)\n",
    "\n",
    "    return 'INSERT INTO \"%s\"(%s) VALUES(%s);' % (\n",
    "            table, cols, vals)\n",
    "\n",
    "# gen_insert(\"workers\", name=\"John\", age=21, salary=1500.0)\n",
    "params = {\"name\": \"Mary\", \"age\": 19, \"salary\": 1200.0}\n",
    "# gen_insert(\"workers\", **params)\n",
    "params.items()"
   ]
  },
  {
   "cell_type": "code",
   "execution_count": 74,
   "metadata": {},
   "outputs": [
    {
     "ename": "IndexError",
     "evalue": "list index out of range",
     "output_type": "error",
     "traceback": [
      "\u001b[1;31m---------------------------------------------------------------------------\u001b[0m",
      "\u001b[1;31mIndexError\u001b[0m                                Traceback (most recent call last)",
      "\u001b[1;32m<ipython-input-74-cfecd52913cb>\u001b[0m in \u001b[0;36m<module>\u001b[1;34m()\u001b[0m\n\u001b[0;32m      3\u001b[0m \u001b[1;33m\u001b[0m\u001b[0m\n\u001b[0;32m      4\u001b[0m \u001b[0mindex\u001b[0m \u001b[1;33m=\u001b[0m \u001b[1;36m3\u001b[0m\u001b[1;33m\u001b[0m\u001b[0m\n\u001b[1;32m----> 5\u001b[1;33m \u001b[0mfib\u001b[0m \u001b[1;33m=\u001b[0m \u001b[1;36m1\u001b[0m \u001b[1;32mif\u001b[0m \u001b[0ma\u001b[0m\u001b[1;33m[\u001b[0m\u001b[0mindex\u001b[0m\u001b[1;33m]\u001b[0m \u001b[1;32melse\u001b[0m \u001b[1;36m2\u001b[0m\u001b[1;33m\u001b[0m\u001b[0m\n\u001b[0m",
      "\u001b[1;31mIndexError\u001b[0m: list index out of range"
     ]
    }
   ],
   "source": [
    "a = [1, 2, 3]\n",
    "# fib = [a[index] + a[index + 1] if a[index + 1] else a[index] for index, elem in enumerate(a)]\n",
    "\n",
    "index = 3\n",
    "fib = 1 if a[index] else 2"
   ]
  }
 ],
 "metadata": {
  "kernelspec": {
   "display_name": "Python 3",
   "language": "python",
   "name": "python3"
  },
  "language_info": {
   "codemirror_mode": {
    "name": "ipython",
    "version": 3
   },
   "file_extension": ".py",
   "mimetype": "text/x-python",
   "name": "python",
   "nbconvert_exporter": "python",
   "pygments_lexer": "ipython3",
   "version": "3.6.2"
  }
 },
 "nbformat": 4,
 "nbformat_minor": 2
}
